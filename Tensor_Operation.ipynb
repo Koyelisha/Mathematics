{
 "cells": [
  {
   "cell_type": "code",
   "execution_count": 1,
   "id": "ac3b8573-5c0d-4905-a6f9-c5789f13cf10",
   "metadata": {},
   "outputs": [],
   "source": [
    "import numpy as np\n",
    "import tensorflow as tf"
   ]
  },
  {
   "cell_type": "code",
   "execution_count": 3,
   "id": "2c3e54fd-ac24-4dee-a9fa-cfb7f3dabee0",
   "metadata": {},
   "outputs": [
    {
     "data": {
      "text/plain": [
       "array([[25,  2],\n",
       "       [ 5, 26],\n",
       "       [ 3,  7]])"
      ]
     },
     "execution_count": 3,
     "metadata": {},
     "output_type": "execute_result"
    }
   ],
   "source": [
    "x = np.array([[25,2],[5,26],[3,7]])\n",
    "x"
   ]
  },
  {
   "cell_type": "code",
   "execution_count": 4,
   "id": "07000a3d-b421-4c57-bc38-25ee126416ab",
   "metadata": {},
   "outputs": [
    {
     "data": {
      "text/plain": [
       "array([[25,  5,  3],\n",
       "       [ 2, 26,  7]])"
      ]
     },
     "execution_count": 4,
     "metadata": {},
     "output_type": "execute_result"
    }
   ],
   "source": [
    "x.T"
   ]
  },
  {
   "cell_type": "code",
   "execution_count": 7,
   "id": "5e367501-3657-4375-9971-09cad2a66f36",
   "metadata": {},
   "outputs": [
    {
     "data": {
      "text/plain": [
       "<tf.Variable 'Variable:0' shape=(3, 2) dtype=int32, numpy=\n",
       "array([[25,  2],\n",
       "       [ 5, 26],\n",
       "       [ 3,  7]])>"
      ]
     },
     "execution_count": 7,
     "metadata": {},
     "output_type": "execute_result"
    }
   ],
   "source": [
    "x_tf = tf.Variable([[25,2],[5,26],[3,7]])\n",
    "x_tf"
   ]
  },
  {
   "cell_type": "code",
   "execution_count": 11,
   "id": "3721a818-7fd2-4e26-acdf-cb84cbac49cc",
   "metadata": {},
   "outputs": [
    {
     "data": {
      "text/plain": [
       "<tf.Tensor: shape=(2, 3), dtype=int32, numpy=\n",
       "array([[25,  5,  3],\n",
       "       [ 2, 26,  7]])>"
      ]
     },
     "execution_count": 11,
     "metadata": {},
     "output_type": "execute_result"
    }
   ],
   "source": [
    "tf.transpose(x_tf)"
   ]
  },
  {
   "cell_type": "code",
   "execution_count": 12,
   "id": "6767e8c7-e263-468c-84d3-3756238b3189",
   "metadata": {},
   "outputs": [
    {
     "data": {
      "text/plain": [
       "array([[27,  4],\n",
       "       [ 7, 28],\n",
       "       [ 5,  9]])"
      ]
     },
     "execution_count": 12,
     "metadata": {},
     "output_type": "execute_result"
    }
   ],
   "source": [
    "x=x+2\n",
    "x"
   ]
  },
  {
   "cell_type": "code",
   "execution_count": 13,
   "id": "7b7503a6-0c51-41cc-935e-d44259a1764d",
   "metadata": {},
   "outputs": [
    {
     "data": {
      "text/plain": [
       "array([[54,  8],\n",
       "       [14, 56],\n",
       "       [10, 18]])"
      ]
     },
     "execution_count": 13,
     "metadata": {},
     "output_type": "execute_result"
    }
   ],
   "source": [
    "x*2"
   ]
  },
  {
   "cell_type": "code",
   "execution_count": 14,
   "id": "869aa28c-0a80-4483-b08b-22de705a2304",
   "metadata": {},
   "outputs": [
    {
     "data": {
      "text/plain": [
       "array([[27,  4],\n",
       "       [ 7, 28],\n",
       "       [ 5,  9]])"
      ]
     },
     "execution_count": 14,
     "metadata": {},
     "output_type": "execute_result"
    }
   ],
   "source": [
    "x"
   ]
  },
  {
   "cell_type": "code",
   "execution_count": 16,
   "id": "d8b03d5f-4b6c-4c08-9500-1e13b01aee9d",
   "metadata": {},
   "outputs": [
    {
     "data": {
      "text/plain": [
       "<tf.Tensor: shape=(3, 2), dtype=int32, numpy=\n",
       "array([[54,  8],\n",
       "       [14, 56],\n",
       "       [10, 18]])>"
      ]
     },
     "execution_count": 16,
     "metadata": {},
     "output_type": "execute_result"
    }
   ],
   "source": [
    "(x_tf + 2)*2"
   ]
  },
  {
   "cell_type": "code",
   "execution_count": 17,
   "id": "6dfa5dc0-030c-4733-bb26-d4b02359fce3",
   "metadata": {},
   "outputs": [
    {
     "data": {
      "text/plain": [
       "<tf.Tensor: shape=(3, 2), dtype=int32, numpy=\n",
       "array([[52,  6],\n",
       "       [12, 54],\n",
       "       [ 8, 16]])>"
      ]
     },
     "execution_count": 17,
     "metadata": {},
     "output_type": "execute_result"
    }
   ],
   "source": [
    "tf.add(tf.multiply(x_tf,2),2)"
   ]
  },
  {
   "cell_type": "code",
   "execution_count": 18,
   "id": "7a546f25-a34c-424d-9203-2bde918a0a57",
   "metadata": {},
   "outputs": [
    {
     "data": {
      "text/plain": [
       "array([[27,  4],\n",
       "       [ 7, 28],\n",
       "       [ 5,  9]])"
      ]
     },
     "execution_count": 18,
     "metadata": {},
     "output_type": "execute_result"
    }
   ],
   "source": [
    "x"
   ]
  },
  {
   "cell_type": "code",
   "execution_count": 19,
   "id": "181eff1b-8352-4e8b-8f8c-26bc362d30cb",
   "metadata": {},
   "outputs": [
    {
     "data": {
      "text/plain": [
       "array([[29,  6],\n",
       "       [ 9, 30],\n",
       "       [ 7, 11]])"
      ]
     },
     "execution_count": 19,
     "metadata": {},
     "output_type": "execute_result"
    }
   ],
   "source": [
    "a = x + 2\n",
    "a"
   ]
  },
  {
   "cell_type": "code",
   "execution_count": 20,
   "id": "e1490d16-9eaf-4f7e-b90c-91f6b51b2661",
   "metadata": {},
   "outputs": [
    {
     "data": {
      "text/plain": [
       "array([[783,  24],\n",
       "       [ 63, 840],\n",
       "       [ 35,  99]])"
      ]
     },
     "execution_count": 20,
     "metadata": {},
     "output_type": "execute_result"
    }
   ],
   "source": [
    "#Hadamard or element wise multiplication\n",
    "x * a"
   ]
  },
  {
   "cell_type": "code",
   "execution_count": 21,
   "id": "7704f898-7ced-48ab-a8b6-5fe5d09928eb",
   "metadata": {},
   "outputs": [
    {
     "data": {
      "text/plain": [
       "array([[56, 10],\n",
       "       [16, 58],\n",
       "       [12, 20]])"
      ]
     },
     "execution_count": 21,
     "metadata": {},
     "output_type": "execute_result"
    }
   ],
   "source": [
    "a + x"
   ]
  },
  {
   "cell_type": "code",
   "execution_count": 22,
   "id": "1d29c6d3-fd25-4125-9977-f9bab90fd332",
   "metadata": {},
   "outputs": [],
   "source": [
    "a_tf = x_tf + 2"
   ]
  },
  {
   "cell_type": "code",
   "execution_count": 23,
   "id": "edc1dede-9df2-4cbb-9c3f-2787a7ce8833",
   "metadata": {},
   "outputs": [
    {
     "data": {
      "text/plain": [
       "<tf.Tensor: shape=(3, 2), dtype=int32, numpy=\n",
       "array([[52,  6],\n",
       "       [12, 54],\n",
       "       [ 8, 16]])>"
      ]
     },
     "execution_count": 23,
     "metadata": {},
     "output_type": "execute_result"
    }
   ],
   "source": [
    "x_tf + a_tf"
   ]
  },
  {
   "cell_type": "code",
   "execution_count": 24,
   "id": "6d04c17d-065a-4d33-99f5-cfa8b72746ee",
   "metadata": {},
   "outputs": [
    {
     "data": {
      "text/plain": [
       "<tf.Tensor: shape=(3, 2), dtype=int32, numpy=\n",
       "array([[675,   8],\n",
       "       [ 35, 728],\n",
       "       [ 15,  63]])>"
      ]
     },
     "execution_count": 24,
     "metadata": {},
     "output_type": "execute_result"
    }
   ],
   "source": [
    "x_tf * a_tf"
   ]
  },
  {
   "cell_type": "code",
   "execution_count": 25,
   "id": "a411c5bd-5f3b-4be7-b8d6-05a6ceb11539",
   "metadata": {},
   "outputs": [
    {
     "data": {
      "text/plain": [
       "80"
      ]
     },
     "execution_count": 25,
     "metadata": {},
     "output_type": "execute_result"
    }
   ],
   "source": [
    "x.sum()"
   ]
  },
  {
   "cell_type": "code",
   "execution_count": 26,
   "id": "4de355f2-302a-4881-a292-fe830ed787f7",
   "metadata": {},
   "outputs": [
    {
     "data": {
      "text/plain": [
       "<tf.Tensor: shape=(), dtype=int32, numpy=68>"
      ]
     },
     "execution_count": 26,
     "metadata": {},
     "output_type": "execute_result"
    }
   ],
   "source": [
    "tf.reduce_sum(x_tf)"
   ]
  },
  {
   "cell_type": "code",
   "execution_count": 27,
   "id": "9164a527-cd3b-4f8f-b4fe-3eaf03b5981e",
   "metadata": {},
   "outputs": [
    {
     "data": {
      "text/plain": [
       "<tf.Variable 'Variable:0' shape=(3, 2) dtype=int32, numpy=\n",
       "array([[25,  2],\n",
       "       [ 5, 26],\n",
       "       [ 3,  7]])>"
      ]
     },
     "execution_count": 27,
     "metadata": {},
     "output_type": "execute_result"
    }
   ],
   "source": [
    "x_tf"
   ]
  },
  {
   "cell_type": "code",
   "execution_count": 30,
   "id": "92c40c92-5c11-4385-a500-22a7fce40746",
   "metadata": {},
   "outputs": [
    {
     "data": {
      "text/plain": [
       "array([31, 35, 14])"
      ]
     },
     "execution_count": 30,
     "metadata": {},
     "output_type": "execute_result"
    }
   ],
   "source": [
    "x.sum(axis=0) #row wise sum\n",
    "x.sum(axis=1) #column wise sum"
   ]
  },
  {
   "cell_type": "code",
   "execution_count": 29,
   "id": "7b71780f-12f4-4a72-835b-99e8f484f499",
   "metadata": {},
   "outputs": [
    {
     "data": {
      "text/plain": [
       "<tf.Tensor: shape=(3,), dtype=int32, numpy=array([27, 31, 10])>"
      ]
     },
     "execution_count": 29,
     "metadata": {},
     "output_type": "execute_result"
    }
   ],
   "source": [
    "tf.reduce_sum(x_tf,1)"
   ]
  },
  {
   "cell_type": "code",
   "execution_count": 31,
   "id": "da3b597d-d1bc-412e-9a2b-8c03a3f256e8",
   "metadata": {},
   "outputs": [
    {
     "data": {
      "text/plain": [
       "array([27, 28])"
      ]
     },
     "execution_count": 31,
     "metadata": {},
     "output_type": "execute_result"
    }
   ],
   "source": [
    "x.max(axis=0)"
   ]
  },
  {
   "cell_type": "code",
   "execution_count": 32,
   "id": "2df36d5a-0b72-4855-a797-630e6c1f6728",
   "metadata": {},
   "outputs": [
    {
     "data": {
      "text/plain": [
       "array([[27,  4],\n",
       "       [ 7, 28],\n",
       "       [ 5,  9]])"
      ]
     },
     "execution_count": 32,
     "metadata": {},
     "output_type": "execute_result"
    }
   ],
   "source": [
    "x"
   ]
  },
  {
   "cell_type": "code",
   "execution_count": 33,
   "id": "eb508ae1-3a8d-45f6-b3f4-e0728bfd9a86",
   "metadata": {},
   "outputs": [
    {
     "data": {
      "text/plain": [
       "array([4, 7, 5])"
      ]
     },
     "execution_count": 33,
     "metadata": {},
     "output_type": "execute_result"
    }
   ],
   "source": [
    "x.min(axis=1)"
   ]
  },
  {
   "cell_type": "code",
   "execution_count": 34,
   "id": "e1ff7164-cab9-4398-86db-cbf2d7035914",
   "metadata": {},
   "outputs": [
    {
     "data": {
      "text/plain": [
       "array([25,  2,  5])"
      ]
     },
     "execution_count": 34,
     "metadata": {},
     "output_type": "execute_result"
    }
   ],
   "source": [
    "x = np.array([25,2,5])\n",
    "x"
   ]
  },
  {
   "cell_type": "code",
   "execution_count": 35,
   "id": "9adc1c40-a93e-45ef-b3b9-ce45ac3f7183",
   "metadata": {},
   "outputs": [
    {
     "data": {
      "text/plain": [
       "array([1, 2, 3])"
      ]
     },
     "execution_count": 35,
     "metadata": {},
     "output_type": "execute_result"
    }
   ],
   "source": [
    "y = np.array([1,2,3])\n",
    "y"
   ]
  },
  {
   "cell_type": "code",
   "execution_count": 36,
   "id": "bae89d49-571d-4be6-9557-e9396ff2634b",
   "metadata": {},
   "outputs": [
    {
     "data": {
      "text/plain": [
       "44"
      ]
     },
     "execution_count": 36,
     "metadata": {},
     "output_type": "execute_result"
    }
   ],
   "source": [
    "25*1 + 2*2 + 5*3"
   ]
  },
  {
   "cell_type": "code",
   "execution_count": 38,
   "id": "4657ecf7-9acc-4243-8124-b7982f65e475",
   "metadata": {},
   "outputs": [
    {
     "data": {
      "text/plain": [
       "44"
      ]
     },
     "execution_count": 38,
     "metadata": {},
     "output_type": "execute_result"
    }
   ],
   "source": [
    "np.dot(x,y)"
   ]
  },
  {
   "cell_type": "code",
   "execution_count": 39,
   "id": "7aa81453-d4cf-4d97-be83-84cd13814ca4",
   "metadata": {},
   "outputs": [],
   "source": [
    "x_tf = tf.Variable([25,2,5])\n",
    "y_tf = tf.Variable([1,2,3])"
   ]
  },
  {
   "cell_type": "code",
   "execution_count": 40,
   "id": "9e1fad2f-fa18-4ca0-8b51-7c847173b209",
   "metadata": {},
   "outputs": [
    {
     "data": {
      "text/plain": [
       "<tf.Variable 'Variable:0' shape=(3,) dtype=int32, numpy=array([25,  2,  5])>"
      ]
     },
     "execution_count": 40,
     "metadata": {},
     "output_type": "execute_result"
    }
   ],
   "source": [
    "x_tf"
   ]
  },
  {
   "cell_type": "code",
   "execution_count": 41,
   "id": "caa64686-e1e3-42ee-864d-7aa832709cd5",
   "metadata": {},
   "outputs": [
    {
     "data": {
      "text/plain": [
       "<tf.Variable 'Variable:0' shape=(3,) dtype=int32, numpy=array([1, 2, 3])>"
      ]
     },
     "execution_count": 41,
     "metadata": {},
     "output_type": "execute_result"
    }
   ],
   "source": [
    "y_tf"
   ]
  },
  {
   "cell_type": "code",
   "execution_count": 45,
   "id": "390479e7-3e89-47a2-af4d-acc45d48c374",
   "metadata": {},
   "outputs": [
    {
     "data": {
      "text/plain": [
       "<tf.Tensor: shape=(), dtype=int32, numpy=44>"
      ]
     },
     "execution_count": 45,
     "metadata": {},
     "output_type": "execute_result"
    }
   ],
   "source": [
    "tf.reduce_sum(tf.multiply(x_tf,y_tf))"
   ]
  },
  {
   "cell_type": "code",
   "execution_count": 46,
   "id": "a5a4780c-3391-440d-9580-5a179a15580b",
   "metadata": {},
   "outputs": [
    {
     "data": {
      "text/plain": [
       "<tf.Tensor: shape=(), dtype=int32, numpy=32>"
      ]
     },
     "execution_count": 46,
     "metadata": {},
     "output_type": "execute_result"
    }
   ],
   "source": [
    "tf.reduce_sum(x_tf)"
   ]
  },
  {
   "cell_type": "code",
   "execution_count": 47,
   "id": "ae1e6b89-ef88-4cfa-a2b6-8956e0be33b1",
   "metadata": {},
   "outputs": [
    {
     "data": {
      "text/plain": [
       "<tf.Tensor: shape=(), dtype=int32, numpy=44>"
      ]
     },
     "execution_count": 47,
     "metadata": {},
     "output_type": "execute_result"
    }
   ],
   "source": [
    "tf.reduce_sum(tf.multiply(x_tf,y_tf))"
   ]
  },
  {
   "cell_type": "code",
   "execution_count": 48,
   "id": "6a123d3d-b9cf-4e6e-b8e8-f71c0c843960",
   "metadata": {},
   "outputs": [
    {
     "data": {
      "text/plain": [
       "array([[ 42,   4,   7,  99],\n",
       "       [-99,  -3,  17,  22]])"
      ]
     },
     "execution_count": 48,
     "metadata": {},
     "output_type": "execute_result"
    }
   ],
   "source": [
    "y = np.array([[42,4,7,99],[-99,-3,17,22]])\n",
    "y"
   ]
  },
  {
   "cell_type": "code",
   "execution_count": 49,
   "id": "a250017e-7b28-43a5-983f-2956d9354723",
   "metadata": {},
   "outputs": [],
   "source": [
    "y = y.T"
   ]
  },
  {
   "cell_type": "code",
   "execution_count": 50,
   "id": "79d0f3fb-ee64-4922-bf04-8399361be906",
   "metadata": {},
   "outputs": [
    {
     "data": {
      "text/plain": [
       "array([[ 42, -99],\n",
       "       [  4,  -3],\n",
       "       [  7,  17],\n",
       "       [ 99,  22]])"
      ]
     },
     "execution_count": 50,
     "metadata": {},
     "output_type": "execute_result"
    }
   ],
   "source": [
    "y"
   ]
  },
  {
   "cell_type": "code",
   "execution_count": 51,
   "id": "12ab8dbc-d29c-43f0-ac61-cd9bd816caa7",
   "metadata": {},
   "outputs": [],
   "source": [
    "a = np.array([[25,10],[-2,1]])\n",
    "b = np.array([[-1,7],[10,8]])"
   ]
  },
  {
   "cell_type": "code",
   "execution_count": 52,
   "id": "8296950b-5cff-4409-85f1-9169ba9d09b8",
   "metadata": {},
   "outputs": [
    {
     "data": {
      "text/plain": [
       "array([[-25,  70],\n",
       "       [-20,   8]])"
      ]
     },
     "execution_count": 52,
     "metadata": {},
     "output_type": "execute_result"
    }
   ],
   "source": [
    "a*b"
   ]
  },
  {
   "cell_type": "code",
   "execution_count": 53,
   "id": "731f9f9b-1020-480a-a3b0-aeb46e8bf824",
   "metadata": {},
   "outputs": [],
   "source": [
    "w = np.array([-1,2,-2])\n",
    "x = np.array([5,10,0])"
   ]
  },
  {
   "cell_type": "code",
   "execution_count": 55,
   "id": "5c5402fe-47f3-4f87-947d-d6bccbdccc2d",
   "metadata": {},
   "outputs": [
    {
     "data": {
      "text/plain": [
       "15"
      ]
     },
     "execution_count": 55,
     "metadata": {},
     "output_type": "execute_result"
    }
   ],
   "source": [
    "np.dot(w,x)"
   ]
  }
 ],
 "metadata": {
  "kernelspec": {
   "display_name": "Python 3 (ipykernel)",
   "language": "python",
   "name": "python3"
  },
  "language_info": {
   "codemirror_mode": {
    "name": "ipython",
    "version": 3
   },
   "file_extension": ".py",
   "mimetype": "text/x-python",
   "name": "python",
   "nbconvert_exporter": "python",
   "pygments_lexer": "ipython3",
   "version": "3.12.3"
  }
 },
 "nbformat": 4,
 "nbformat_minor": 5
}
